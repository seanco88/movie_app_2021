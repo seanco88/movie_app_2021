{
 "cells": [
  {
   "cell_type": "code",
   "execution_count": null,
   "id": "fe7ca5ec-3723-4eca-872d-10b6ae3caf69",
   "metadata": {},
   "outputs": [],
   "source": [
    "import json"
   ]
  },
  {
   "cell_type": "code",
   "execution_count": null,
   "id": "c3bd598a-7790-42df-8d03-69f44aeefa23",
   "metadata": {},
   "outputs": [],
   "source": [
    "file = open(\"/home/jovyan/Untitled1.ipynb\", 'r')"
   ]
  },
  {
   "cell_type": "code",
   "execution_count": null,
   "id": "fde96614-0a37-43fb-a705-ba75df445374",
   "metadata": {},
   "outputs": [],
   "source": [
    "data = file.read()"
   ]
  },
  {
   "cell_type": "code",
   "execution_count": null,
   "id": "590ef14a-d04f-4fb1-923b-ed4a53e48315",
   "metadata": {},
   "outputs": [],
   "source": [
    "data"
   ]
  },
  {
   "cell_type": "code",
   "execution_count": null,
   "id": "899416c1-175f-465c-9124-42688a7ee788",
   "metadata": {},
   "outputs": [],
   "source": [
    "file.close()"
   ]
  },
  {
   "cell_type": "code",
   "execution_count": null,
   "id": "ce3c2013-ad13-455a-bdb3-9f9551499233",
   "metadata": {},
   "outputs": [],
   "source": [
    "content = json.loads(data)"
   ]
  },
  {
   "cell_type": "code",
   "execution_count": null,
   "id": "58f1acc3-b19e-43ee-aea0-b1929a91a9af",
   "metadata": {
    "tags": []
   },
   "outputs": [],
   "source": [
    "content.keys()"
   ]
  },
  {
   "cell_type": "code",
   "execution_count": null,
   "id": "084a0e91-acbb-4a15-870c-863946739741",
   "metadata": {},
   "outputs": [],
   "source": [
    "type(content)"
   ]
  },
  {
   "cell_type": "code",
   "execution_count": null,
   "id": "37ada30d-dada-4eb7-9715-06f39e053ed5",
   "metadata": {
    "tags": []
   },
   "outputs": [],
   "source": [
    "nb_keys = [\"cells\", \"metadata\", \"nbformat\", \"nbformat_minor\", \"output\"]"
   ]
  },
  {
   "cell_type": "code",
   "execution_count": null,
   "id": "9cec52cf-3acb-4154-8711-91e637bd6a22",
   "metadata": {
    "tags": []
   },
   "outputs": [],
   "source": [
    "for key in nb_keys:\n",
    "    if key in content.keys():\n",
    "        print(key + \" exists\")\n",
    "    else:\n",
    "        print(key + \" does not exist\")"
   ]
  },
  {
   "cell_type": "code",
   "execution_count": null,
   "id": "b5366dab-40c3-4ca5-8aa6-a0ae74d93a6e",
   "metadata": {},
   "outputs": [],
   "source": []
  }
 ],
 "metadata": {
  "kernelspec": {
   "display_name": "Python3",
   "language": "python",
   "name": "python_kubernetes"
  },
  "language_info": {
   "codemirror_mode": {
    "name": "ipython",
    "version": 3
   },
   "file_extension": ".py",
   "mimetype": "text/x-python",
   "name": "python",
   "nbconvert_exporter": "python",
   "pygments_lexer": "ipython3",
   "version": "3.8.6"
  }
 },
 "nbformat": 4,
 "nbformat_minor": 5
}
